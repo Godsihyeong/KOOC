{
 "cells": [
  {
   "cell_type": "markdown",
   "metadata": {},
   "source": [
    "> <h1>Data handling and Descriptive Statistics</h1>"
   ]
  },
  {
   "cell_type": "markdown",
   "metadata": {},
   "source": [
    "> <h2>Data handling</h2>\n",
    "> dataset을 불러오고 숫자에 대한 선제적인 이해가 필수   \n",
    "> 범주형 변수인지, 연속형인지, 숫자들 간의 선후관계 등등..\n",
    "> domain 지식(독립변수)에 대한 이해가 필수적"
   ]
  },
  {
   "cell_type": "markdown",
   "metadata": {},
   "source": [
    "> <h2>Descriptive Statistics</h2>\n",
    "> empirical mean and variance   \n",
    "> = sample mean and variance   \n",
    "> -> 특정 sample에서 얻은 것을 계산한 통계량"
   ]
  },
  {
   "cell_type": "markdown",
   "metadata": {},
   "source": [
    "> <h2>Credit card DataFrame</h2>\n",
    "> 하나의 value는 특정 instance의 특정 variable에 해당하는 값을 의미"
   ]
  },
  {
   "cell_type": "code",
   "execution_count": 1,
   "metadata": {},
   "outputs": [
    {
     "name": "stdout",
     "output_type": "stream",
     "text": [
      "      Unnamed: 0         X1   X2         X3        X4   X5     X6     X7  \\\n",
      "0             ID  LIMIT_BAL  SEX  EDUCATION  MARRIAGE  AGE  PAY_0  PAY_2   \n",
      "1              1      20000    2          2         1   24      2      2   \n",
      "2              2     120000    2          2         2   26     -1      2   \n",
      "3              3      90000    2          2         2   34      0      0   \n",
      "4              4      50000    2          2         1   37      0      0   \n",
      "...          ...        ...  ...        ...       ...  ...    ...    ...   \n",
      "29996      29996     220000    1          3         1   39      0      0   \n",
      "29997      29997     150000    1          3         2   43     -1     -1   \n",
      "29998      29998      30000    1          2         2   37      4      3   \n",
      "29999      29999      80000    1          3         1   41      1     -1   \n",
      "30000      30000      50000    1          2         1   46      0      0   \n",
      "\n",
      "          X8     X9  ...        X15        X16        X17       X18       X19  \\\n",
      "0      PAY_3  PAY_4  ...  BILL_AMT4  BILL_AMT5  BILL_AMT6  PAY_AMT1  PAY_AMT2   \n",
      "1         -1     -1  ...          0          0          0         0       689   \n",
      "2          0      0  ...       3272       3455       3261         0      1000   \n",
      "3          0      0  ...      14331      14948      15549      1518      1500   \n",
      "4          0      0  ...      28314      28959      29547      2000      2019   \n",
      "...      ...    ...  ...        ...        ...        ...       ...       ...   \n",
      "29996      0      0  ...      88004      31237      15980      8500     20000   \n",
      "29997     -1     -1  ...       8979       5190          0      1837      3526   \n",
      "29998      2     -1  ...      20878      20582      19357         0         0   \n",
      "29999      0      0  ...      52774      11855      48944     85900      3409   \n",
      "30000      0      0  ...      36535      32428      15313      2078      1800   \n",
      "\n",
      "            X20       X21       X22       X23                           Y  \n",
      "0      PAY_AMT3  PAY_AMT4  PAY_AMT5  PAY_AMT6  default payment next month  \n",
      "1             0         0         0         0                           1  \n",
      "2          1000      1000         0      2000                           1  \n",
      "3          1000      1000      1000      5000                           0  \n",
      "4          1200      1100      1069      1000                           0  \n",
      "...         ...       ...       ...       ...                         ...  \n",
      "29996      5003      3047      5000      1000                           0  \n",
      "29997      8998       129         0         0                           0  \n",
      "29998     22000      4200      2000      3100                           1  \n",
      "29999      1178      1926     52964      1804                           1  \n",
      "30000      1430      1000      1000      1000                           1  \n",
      "\n",
      "[30001 rows x 25 columns]\n"
     ]
    }
   ],
   "source": [
    "import pandas as pd\n",
    "\n",
    "objdata = pd.read_excel('datasets/default of credit card clients.xls', skiprows=[])\n",
    "print(objdata)"
   ]
  },
  {
   "cell_type": "markdown",
   "metadata": {},
   "source": [
    "><h4>DataFrame은 column data의 dictionary로 이해할 수 있다.</h4>   \n",
    "><h4>row로의 접근은 'iloc'로 가능</h4>"
   ]
  },
  {
   "cell_type": "code",
   "execution_count": 9,
   "metadata": {},
   "outputs": [
    {
     "name": "stdout",
     "output_type": "stream",
     "text": [
      "0        LIMIT_BAL\n",
      "1            20000\n",
      "2           120000\n",
      "3            90000\n",
      "4            50000\n",
      "           ...    \n",
      "29996       220000\n",
      "29997       150000\n",
      "29998        30000\n",
      "29999        80000\n",
      "30000        50000\n",
      "Name: X1, Length: 30001, dtype: object\n",
      "<class 'pandas.core.series.Series'>\n",
      "------------------------------------------\n",
      "Unnamed: 0                            ID\n",
      "X1                             LIMIT_BAL\n",
      "X2                                   SEX\n",
      "X3                             EDUCATION\n",
      "X4                              MARRIAGE\n",
      "X5                                   AGE\n",
      "X6                                 PAY_0\n",
      "X7                                 PAY_2\n",
      "X8                                 PAY_3\n",
      "X9                                 PAY_4\n",
      "X10                                PAY_5\n",
      "X11                                PAY_6\n",
      "X12                            BILL_AMT1\n",
      "X13                            BILL_AMT2\n",
      "X14                            BILL_AMT3\n",
      "X15                            BILL_AMT4\n",
      "X16                            BILL_AMT5\n",
      "X17                            BILL_AMT6\n",
      "X18                             PAY_AMT1\n",
      "X19                             PAY_AMT2\n",
      "X20                             PAY_AMT3\n",
      "X21                             PAY_AMT4\n",
      "X22                             PAY_AMT5\n",
      "X23                             PAY_AMT6\n",
      "Y             default payment next month\n",
      "Name: 0, dtype: object\n",
      "<class 'pandas.core.series.Series'>\n",
      "------------------------------------------\n",
      "LIMIT_BAL\n",
      "<class 'str'>\n"
     ]
    }
   ],
   "source": [
    "print(objdata['X1'])\n",
    "print(type(objdata['X1']))\n",
    "print('------------------------------------------')\n",
    "print(objdata.iloc[0])\n",
    "print(type(objdata.iloc[0]))\n",
    "print('------------------------------------------')\n",
    "print(objdata['X1'][0])\n",
    "print(type(objdata['X1'][0]))"
   ]
  },
  {
   "cell_type": "markdown",
   "metadata": {},
   "source": [
    "><h4>cf. Series</h4>\n",
    "><h4>series는 list 또는 dictionary처럼 access 가능</h4>"
   ]
  },
  {
   "cell_type": "code",
   "execution_count": 5,
   "metadata": {},
   "outputs": [
    {
     "name": "stdout",
     "output_type": "stream",
     "text": [
      "a    1\n",
      "b    2\n",
      "c    3\n",
      "dtype: int64 --> series\n",
      "\n",
      "1 --> dict로 접근\n",
      "\n",
      "b    2\n",
      "c    3\n",
      "dtype: int64 --> list로 접근\n"
     ]
    }
   ],
   "source": [
    "dic = {'a':1, 'b':2, 'c':3}\n",
    "objSeries = pd.Series(dic)\n",
    "print(objSeries, '--> series')\n",
    "print()\n",
    "print(objSeries['a'], '--> dict로 접근')\n",
    "print()\n",
    "print(objSeries[1:3], '--> list로 접근')"
   ]
  },
  {
   "cell_type": "markdown",
   "metadata": {},
   "source": [
    "> <h2>Histogram from DataFrame</h2>"
   ]
  },
  {
   "cell_type": "markdown",
   "metadata": {},
   "source": [
    "> Histogram은 Data의 distribution을 이해하기 위한 집합   \n",
    "> empirical density를 제공   \n",
    "> count of data instance = density of data distribution\n",
    ">> ''hist를 통해 데이터의 분포를 modeling 한다 -> 데이터의 분포를 확인''"
   ]
  },
  {
   "cell_type": "code",
   "execution_count": 10,
   "metadata": {},
   "outputs": [
    {
     "data": {
      "image/png": "[encoded data removed]",
      "text/plain": [
       "<Figure size 432x288 with 1 Axes>"
      ]
     },
     "metadata": {
      "needs_background": "light"
     },
     "output_type": "display_data"
    }
   ],
   "source": [
    "import pandas as pd\n",
    "import matplotlib.pyplot as plt\n",
    "\n",
    "objdata = pd.read_excel('datasets/default of credit card clients.xls', skiprows=[1, 2])\n",
    "objhist = objdata.hist(column = 'X1', bins = 30)\n",
    "plt.show()"
   ]
  },
  {
   "cell_type": "code",
   "execution_count": 13,
   "metadata": {},
   "outputs": [
    {
     "data": {
      "image/png": "[encoded data removed]",
      "text/plain": [
       "<Figure size 432x288 with 1 Axes>"
      ]
     },
     "metadata": {
      "needs_background": "light"
     },
     "output_type": "display_data"
    }
   ],
   "source": [
    "plt.figure()\n",
    "plt.boxplot(objdata['X1'])\n",
    "plt.show()"
   ]
  },
  {
   "cell_type": "markdown",
   "metadata": {},
   "source": [
    "><h2>Empirical Mean and Variance</h2>"
   ]
  },
  {
   "cell_type": "markdown",
   "metadata": {},
   "source": [
    "> <h4>method1</h4>"
   ]
  },
  {
   "cell_type": "code",
   "execution_count": 26,
   "metadata": {},
   "outputs": [
    {
     "name": "stdout",
     "output_type": "stream",
     "text": [
      "avg =  167489.2389746325\n",
      "var =  16833730579.636086\n",
      "std =  129744.86725738358\n"
     ]
    }
   ],
   "source": [
    "import math\n",
    "\n",
    "avg = 0\n",
    "\n",
    "for i in range(len(objdata['X1'])):\n",
    "    avg = avg + objdata['X1'][i]\n",
    "avg = avg / float(len(objdata['X1']))\n",
    "print('avg = ', avg)\n",
    "\n",
    "var = 0\n",
    "\n",
    "for i in range(len(objdata['X1'])):\n",
    "    var = var + math.pow(objdata['X1'][i] - avg, 2)\n",
    "var = var / float(len(objdata['X1']))\n",
    "print('var = ', var)\n",
    "\n",
    "std_deviation = math.sqrt(var)\n",
    "print('std = ', std_deviation)"
   ]
  },
  {
   "cell_type": "markdown",
   "metadata": {},
   "source": [
    "> <h4>method2</h4>"
   ]
  },
  {
   "cell_type": "code",
   "execution_count": 30,
   "metadata": {},
   "outputs": [
    {
     "name": "stdout",
     "output_type": "stream",
     "text": [
      "avg =  167489.2389746325\n",
      "var =  16833730579.636848\n",
      "std =  129744.86725738652\n"
     ]
    }
   ],
   "source": [
    "avg = 0\n",
    "avg_squared = 0\n",
    "var = 0 \n",
    "\n",
    "for i in range(len(objdata['X1'])):\n",
    "    avg = avg + objdata['X1'][i]\n",
    "    avg_squared = avg_squared + math.pow(objdata['X1'][i], 2)   \n",
    "avg = avg / float(len(objdata['X1']))\n",
    "avg_squared = avg_squared / float(len(objdata['X1']))\n",
    "\n",
    "var = avg_squared - math.pow(avg, 2)\n",
    "std = math.sqrt(var)\n",
    "\n",
    "print('avg = ', avg)\n",
    "print('var = ', var)\n",
    "print('std = ', std)"
   ]
  },
  {
   "cell_type": "markdown",
   "metadata": {},
   "source": [
    "* 반복문을 하나만 사용하여 **시간복잡도(o^2)**를 감소"
   ]
  },
  {
   "cell_type": "markdown",
   "metadata": {},
   "source": [
    "> <h2>Matplotlib</h2>"
   ]
  },
  {
   "cell_type": "code",
   "execution_count": 31,
   "metadata": {},
   "outputs": [
    {
     "data": {
      "image/png": "[encoded data removed]",
      "text/plain": [
       "<Figure size 432x288 with 1 Axes>"
      ]
     },
     "metadata": {
      "needs_background": "light"
     },
     "output_type": "display_data"
    }
   ],
   "source": [
    "import matplotlib.pyplot as plt\n",
    "\n",
    "plt.plot([1, 2, 3, 4])\n",
    "plt.ylabel('some numbers')\n",
    "plt.show()"
   ]
  },
  {
   "cell_type": "code",
   "execution_count": 32,
   "metadata": {},
   "outputs": [
    {
     "data": {
      "image/png": "[encoded data removed]",
      "text/plain": [
       "<Figure size 432x288 with 1 Axes>"
      ]
     },
     "metadata": {
      "needs_background": "light"
     },
     "output_type": "display_data"
    }
   ],
   "source": [
    "plt.plot([3, 6, 4, 7], [1, 2, 3, 4], 'bo')\n",
    "plt.xlabel('some numbers of X')\n",
    "plt.ylabel('some numbers of Y')\n",
    "plt.show()"
   ]
  },
  {
   "cell_type": "markdown",
   "metadata": {},
   "source": [
    "> <h4>Scatter Plot</h4>"
   ]
  },
  {
   "cell_type": "code",
   "execution_count": 33,
   "metadata": {},
   "outputs": [
    {
     "data": {
      "image/png": "[encoded data removed]",
      "text/plain": [
       "<Figure size 432x288 with 1 Axes>"
      ]
     },
     "metadata": {
      "needs_background": "light"
     },
     "output_type": "display_data"
    }
   ],
   "source": [
    "plt.plot(objdata['X12'], objdata['X13'], 'bo')\n",
    "plt.xlabel('X12')\n",
    "plt.ylabel('X13')\n",
    "plt.show()"
   ]
  },
  {
   "cell_type": "markdown",
   "metadata": {},
   "source": [
    "> <h2>Pivot Table</h2>"
   ]
  },
  {
   "cell_type": "code",
   "execution_count": 34,
   "metadata": {},
   "outputs": [
    {
     "name": "stdout",
     "output_type": "stream",
     "text": [
      "               X1\n",
      "X3 X4            \n",
      "0  1       680000\n",
      "   2      2360000\n",
      "1  0       780000\n",
      "   1    942090000\n",
      "   2   1302630000\n",
      "   3      8640000\n",
      "2  0      1190000\n",
      "   1   1118376000\n",
      "   2    929690000\n",
      "   3     14010000\n",
      "3  0      5210000\n",
      "   1    381450000\n",
      "   2    227867680\n",
      "   3      7720000\n",
      "4  1     12570000\n",
      "   2     13980000\n",
      "   3       620000\n",
      "5  1     29026000\n",
      "   2     17740000\n",
      "   3       320000\n",
      "6  1      4470000\n",
      "   2      2720000\n",
      "   3       370000\n"
     ]
    }
   ],
   "source": [
    "import pandas as pd\n",
    "import numpy as np\n",
    "\n",
    "objpivotsum = pd.pivot_table(objdata, values = 'X1', index = ['X3', 'X4'], aggfunc = np.sum)\n",
    "print(objpivotsum)"
   ]
  },
  {
   "cell_type": "code",
   "execution_count": 35,
   "metadata": {},
   "outputs": [
    {
     "name": "stdout",
     "output_type": "stream",
     "text": [
      "                  X1\n",
      "X3 X4               \n",
      "0  1   170000.000000\n",
      "   2   236000.000000\n",
      "1  0   195000.000000\n",
      "   1   253113.917249\n",
      "   2   191310.030842\n",
      "   3   172800.000000\n",
      "2  0   198333.333333\n",
      "   1   163481.362374\n",
      "   2   132434.472934\n",
      "   3    86481.481481\n",
      "3  0   118409.090909\n",
      "   1   133327.507864\n",
      "   2   119364.944997\n",
      "   3    74951.456311\n",
      "4  1   241730.769231\n",
      "   2   205588.235294\n",
      "   3   206666.666667\n",
      "5  1   193506.666667\n",
      "   2   139685.039370\n",
      "   3   106666.666667\n",
      "6  1   159642.857143\n",
      "   2   129523.809524\n",
      "   3   185000.000000\n"
     ]
    }
   ],
   "source": [
    "objpivotavg = pd.pivot_table(objdata, values = 'X1', index = ['X3', 'X4'], aggfunc = np.mean)\n",
    "print(objpivotavg)"
   ]
  },
  {
   "cell_type": "code",
   "execution_count": 36,
   "metadata": {},
   "outputs": [
    {
     "data": {
      "image/png": "[encoded data removed]",
      "text/plain": [
       "<Figure size 432x288 with 1 Axes>"
      ]
     },
     "metadata": {
      "needs_background": "light"
     },
     "output_type": "display_data"
    }
   ],
   "source": [
    "objpivotavg.plot(kind = 'bar')\n",
    "plt.show()"
   ]
  },
  {
   "cell_type": "markdown",
   "metadata": {},
   "source": [
    "> <h2>One-hot Encoding</h2>\n",
    "> 범주형 변수의 숫자는 선후관계나 값에 대한 의미가 없다.\n",
    "> 이에 대해서 model이 학습할 때, 혼란을 방지하고 학습을 돕기위해 범주형 변수를 전환"
   ]
  },
  {
   "cell_type": "code",
   "execution_count": 42,
   "metadata": {},
   "outputs": [
    {
     "name": "stdout",
     "output_type": "stream",
     "text": [
      "       X2_1  X2_2  X3_0  X3_1  X3_2  X3_3  X3_4  X3_5  X3_6  X4_0  X4_1  X4_2  \\\n",
      "0         0     1     0     0     1     0     0     0     0     0     0     1   \n",
      "1         0     1     0     0     1     0     0     0     0     0     0     1   \n",
      "2         0     1     0     0     1     0     0     0     0     0     1     0   \n",
      "3         1     0     0     0     1     0     0     0     0     0     1     0   \n",
      "4         1     0     0     1     0     0     0     0     0     0     0     1   \n",
      "...     ...   ...   ...   ...   ...   ...   ...   ...   ...   ...   ...   ...   \n",
      "29994     1     0     0     0     0     1     0     0     0     0     1     0   \n",
      "29995     1     0     0     0     0     1     0     0     0     0     0     1   \n",
      "29996     1     0     0     0     1     0     0     0     0     0     0     1   \n",
      "29997     1     0     0     0     0     1     0     0     0     0     1     0   \n",
      "29998     1     0     0     0     1     0     0     0     0     0     1     0   \n",
      "\n",
      "       X4_3  \n",
      "0         0  \n",
      "1         0  \n",
      "2         0  \n",
      "3         0  \n",
      "4         0  \n",
      "...     ...  \n",
      "29994     0  \n",
      "29995     0  \n",
      "29996     0  \n",
      "29997     0  \n",
      "29998     0  \n",
      "\n",
      "[29999 rows x 13 columns]\n"
     ]
    }
   ],
   "source": [
    "objdata_onehot = pd.get_dummies(objdata, columns = ['X2', 'X3', 'X4'])\n",
    "print(objdata_onehot.iloc[:,22:])"
   ]
  },
  {
   "cell_type": "code",
   "execution_count": null,
   "metadata": {},
   "outputs": [],
   "source": []
  }
 ],
 "metadata": {
  "kernelspec": {
   "display_name": "Python 3",
   "language": "python",
   "name": "python3"
  },
  "language_info": {
   "codemirror_mode": {
    "name": "ipython",
    "version": 3
   },
   "file_extension": ".py",
   "mimetype": "text/x-python",
   "name": "python",
   "nbconvert_exporter": "python",
   "pygments_lexer": "ipython3",
   "version": "3.8.10"
  }
 },
 "nbformat": 4,
 "nbformat_minor": 2
}
