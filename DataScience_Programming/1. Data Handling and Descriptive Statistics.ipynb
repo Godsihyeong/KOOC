> <h1>Data handling and Descriptive Statistics</h1>
> <h2>Data handling</h2>
> dataset을 불러오고 숫자에 대한 선제적인 이해가 필수   
> 범주형 변수인지, 연속형인지, 숫자들 간의 선후관계 등등..
> domain 지식(독립변수)에 대한 이해가 필수적
> <h2>Descriptive Statistics</h2>
> empirical mean and variance   
> = sample mean and variance   
> -> 특정 sample에서 얻은 것을 계산한 통계량
> <h2>Credit card DataFrame</h2>
> 하나의 value는 특정 instance의 특정 variable에 해당하는 값을 의미
import pandas as pd

objdata = pd.read_excel('datasets/default of credit card clients.xls', skiprows=[])
print(objdata)
><h4>DataFrame은 column data의 dictionary로 이해할 수 있다.</h4>   
><h4>row로의 접근은 'iloc'로 가능</h4>
print(objdata['X1'])
print(type(objdata['X1']))
print('------------------------------------------')
print(objdata.iloc[0])
print(type(objdata.iloc[0]))
print('------------------------------------------')
print(objdata['X1'][0])
print(type(objdata['X1'][0]))
><h4>cf. Series</h4>
><h4>series는 list 또는 dictionary처럼 access 가능</h4>
dic = {'a':1, 'b':2, 'c':3}
objSeries = pd.Series(dic)
print(objSeries, '--> series')
print()
print(objSeries['a'], '--> dict로 접근')
print()
print(objSeries[1:3], '--> list로 접근')
> <h2>Histogram from DataFrame</h2>
> Histogram은 Data의 distribution을 이해하기 위한 집합   
> empirical density를 제공   
> count of data instance = density of data distribution
>> ''hist를 통해 데이터의 분포를 modeling 한다 -> 데이터의 분포를 확인''
import pandas as pd
import matplotlib.pyplot as plt

objdata = pd.read_excel('datasets/default of credit card clients.xls', skiprows=[1, 2])
objhist = objdata.hist(column = 'X1', bins = 30)
plt.show()
plt.figure()
plt.boxplot(objdata['X1'])
plt.show()
><h2>Empirical Mean and Variance</h2>
> <h4>method1</h4>
import math

avg = 0

for i in range(len(objdata['X1'])):
    avg = avg + objdata['X1'][i]
avg = avg / float(len(objdata['X1']))
print('avg = ', avg)

var = 0

for i in range(len(objdata['X1'])):
    var = var + math.pow(objdata['X1'][i] - avg, 2)
var = var / float(len(objdata['X1']))
print('var = ', var)

std_deviation = math.sqrt(var)
print('std = ', std_deviation)
> <h4>method2</h4>
avg = 0
avg_squared = 0
var = 0 

for i in range(len(objdata['X1'])):
    avg = avg + objdata['X1'][i]
    avg_squared = avg_squared + math.pow(objdata['X1'][i], 2)   
avg = avg / float(len(objdata['X1']))
avg_squared = avg_squared / float(len(objdata['X1']))

var = avg_squared - math.pow(avg, 2)
std = math.sqrt(var)

print('avg = ', avg)
print('var = ', var)
print('std = ', std)
* 반복문을 하나만 사용하여 **시간복잡도(o^2)**를 감소
> <h2>Matplotlib</h2>
import matplotlib.pyplot as plt

plt.plot([1, 2, 3, 4])
plt.ylabel('some numbers')
plt.show()
plt.plot([3, 6, 4, 7], [1, 2, 3, 4], 'bo')
plt.xlabel('some numbers of X')
plt.ylabel('some numbers of Y')
plt.show()
> <h4>Scatter Plot</h4>
plt.plot(objdata['X12'], objdata['X13'], 'bo')
plt.xlabel('X12')
plt.ylabel('X13')
plt.show()
> <h2>Pivot Table</h2>
import pandas as pd
import numpy as np

objpivotsum = pd.pivot_table(objdata, values = 'X1', index = ['X3', 'X4'], aggfunc = np.sum)
print(objpivotsum)
objpivotavg = pd.pivot_table(objdata, values = 'X1', index = ['X3', 'X4'], aggfunc = np.mean)
print(objpivotavg)
objpivotavg.plot(kind = 'bar')
plt.show()
> <h2>One-hot Encoding</h2>
> 범주형 변수의 숫자는 선후관계나 값에 대한 의미가 없다.
> 이에 대해서 model이 학습할 때, 혼란을 방지하고 학습을 돕기위해 범주형 변수를 전환
objdata_onehot = pd.get_dummies(objdata, columns = ['X2', 'X3', 'X4'])
print(objdata_onehot.iloc[:,22:])
